{
  "cells": [
    {
      "cell_type": "markdown",
      "metadata": {
        "id": "view-in-github",
        "colab_type": "text"
      },
      "source": [
        "<a href=\"https://colab.research.google.com/github/JoseTayllan/JoseTayllan-Analise-completa-de-Dados/blob/main/Analise_completa_de_Dados_MB2.ipynb\" target=\"_parent\"><img src=\"https://colab.research.google.com/assets/colab-badge.svg\" alt=\"Open In Colab\"/></a>"
      ]
    },
    {
      "cell_type": "markdown",
      "source": [
        " # **Documentação: Análise de Dados de Churn**\n",
        "\n",
        "Este documento fornece uma visão detalhada sobre o código de análise de churn. O foco é explicar o propósito de cada etapa, incluindo os conceitos de ciência de dados aplicados, tratamento de dados e a lógica por trás de cada operação.\n",
        "\n",
        "\n",
        "\\\n",
        "\n",
        "---"
      ],
      "metadata": {
        "id": "vifbDbbuyAAs"
      }
    },
    {
      "cell_type": "markdown",
      "source": [
        "## **1. Importação de Bibliotecas**"
      ],
      "metadata": {
        "id": "v9Lj9dxxzdFL"
      }
    },
    {
      "cell_type": "code",
      "execution_count": null,
      "metadata": {
        "id": "YBekje0K4UPt"
      },
      "outputs": [],
      "source": [
        "import pandas as pd\n",
        "import numpy as np\n",
        "from scipy import stats\n",
        "import matplotlib.pyplot as plt\n",
        "import seaborn as sns"
      ]
    },
    {
      "cell_type": "markdown",
      "source": [
        "\n",
        "\n",
        "\n",
        "\n",
        "\n",
        "\n",
        "As bibliotecas importadas fornecem funcionalidades essenciais:\n",
        "\n",
        "\\\n",
        "**Pandas:** Manipulação de tabelas de dados e suporte para operações como leitura, limpeza e agregação.\n",
        "\n",
        "**NumPy:** Fornece suporte para cálculos numéricos rápidos, especialmente úteis para operações em arrays e funções matemáticas.\n",
        "\n",
        "\n",
        "**SciPy (stats):** Permite realizar testes estatísticos, como o teste T utilizado no código.\n",
        "\n",
        "\n",
        "**Matplotlib e Seaborn:** Criam gráficos para visualização de dados, com Seaborn facilitando a estilização e análise.\n",
        "\n",
        "\n",
        "\\\n",
        "\n",
        "---"
      ],
      "metadata": {
        "id": "qlHxLBRny6cL"
      }
    },
    {
      "cell_type": "markdown",
      "source": [
        "##**2. Carregamento de Dados**"
      ],
      "metadata": {
        "id": "G7rtspsEzjZz"
      }
    },
    {
      "cell_type": "code",
      "execution_count": null,
      "metadata": {
        "id": "eVYmJxNy4xUX",
        "colab": {
          "base_uri": "https://localhost:8080/",
          "height": 142
        },
        "outputId": "a024515d-9bb3-47fc-b380-3d92c84a1167"
      },
      "outputs": [
        {
          "output_type": "display_data",
          "data": {
            "text/plain": [
              "<IPython.core.display.HTML object>"
            ],
            "text/html": [
              "\n",
              "     <input type=\"file\" id=\"files-0c350db0-71e2-4a90-8718-0262754ae480\" name=\"files[]\" multiple disabled\n",
              "        style=\"border:none\" />\n",
              "     <output id=\"result-0c350db0-71e2-4a90-8718-0262754ae480\">\n",
              "      Upload widget is only available when the cell has been executed in the\n",
              "      current browser session. Please rerun this cell to enable.\n",
              "      </output>\n",
              "      <script>// Copyright 2017 Google LLC\n",
              "//\n",
              "// Licensed under the Apache License, Version 2.0 (the \"License\");\n",
              "// you may not use this file except in compliance with the License.\n",
              "// You may obtain a copy of the License at\n",
              "//\n",
              "//      http://www.apache.org/licenses/LICENSE-2.0\n",
              "//\n",
              "// Unless required by applicable law or agreed to in writing, software\n",
              "// distributed under the License is distributed on an \"AS IS\" BASIS,\n",
              "// WITHOUT WARRANTIES OR CONDITIONS OF ANY KIND, either express or implied.\n",
              "// See the License for the specific language governing permissions and\n",
              "// limitations under the License.\n",
              "\n",
              "/**\n",
              " * @fileoverview Helpers for google.colab Python module.\n",
              " */\n",
              "(function(scope) {\n",
              "function span(text, styleAttributes = {}) {\n",
              "  const element = document.createElement('span');\n",
              "  element.textContent = text;\n",
              "  for (const key of Object.keys(styleAttributes)) {\n",
              "    element.style[key] = styleAttributes[key];\n",
              "  }\n",
              "  return element;\n",
              "}\n",
              "\n",
              "// Max number of bytes which will be uploaded at a time.\n",
              "const MAX_PAYLOAD_SIZE = 100 * 1024;\n",
              "\n",
              "function _uploadFiles(inputId, outputId) {\n",
              "  const steps = uploadFilesStep(inputId, outputId);\n",
              "  const outputElement = document.getElementById(outputId);\n",
              "  // Cache steps on the outputElement to make it available for the next call\n",
              "  // to uploadFilesContinue from Python.\n",
              "  outputElement.steps = steps;\n",
              "\n",
              "  return _uploadFilesContinue(outputId);\n",
              "}\n",
              "\n",
              "// This is roughly an async generator (not supported in the browser yet),\n",
              "// where there are multiple asynchronous steps and the Python side is going\n",
              "// to poll for completion of each step.\n",
              "// This uses a Promise to block the python side on completion of each step,\n",
              "// then passes the result of the previous step as the input to the next step.\n",
              "function _uploadFilesContinue(outputId) {\n",
              "  const outputElement = document.getElementById(outputId);\n",
              "  const steps = outputElement.steps;\n",
              "\n",
              "  const next = steps.next(outputElement.lastPromiseValue);\n",
              "  return Promise.resolve(next.value.promise).then((value) => {\n",
              "    // Cache the last promise value to make it available to the next\n",
              "    // step of the generator.\n",
              "    outputElement.lastPromiseValue = value;\n",
              "    return next.value.response;\n",
              "  });\n",
              "}\n",
              "\n",
              "/**\n",
              " * Generator function which is called between each async step of the upload\n",
              " * process.\n",
              " * @param {string} inputId Element ID of the input file picker element.\n",
              " * @param {string} outputId Element ID of the output display.\n",
              " * @return {!Iterable<!Object>} Iterable of next steps.\n",
              " */\n",
              "function* uploadFilesStep(inputId, outputId) {\n",
              "  const inputElement = document.getElementById(inputId);\n",
              "  inputElement.disabled = false;\n",
              "\n",
              "  const outputElement = document.getElementById(outputId);\n",
              "  outputElement.innerHTML = '';\n",
              "\n",
              "  const pickedPromise = new Promise((resolve) => {\n",
              "    inputElement.addEventListener('change', (e) => {\n",
              "      resolve(e.target.files);\n",
              "    });\n",
              "  });\n",
              "\n",
              "  const cancel = document.createElement('button');\n",
              "  inputElement.parentElement.appendChild(cancel);\n",
              "  cancel.textContent = 'Cancel upload';\n",
              "  const cancelPromise = new Promise((resolve) => {\n",
              "    cancel.onclick = () => {\n",
              "      resolve(null);\n",
              "    };\n",
              "  });\n",
              "\n",
              "  // Wait for the user to pick the files.\n",
              "  const files = yield {\n",
              "    promise: Promise.race([pickedPromise, cancelPromise]),\n",
              "    response: {\n",
              "      action: 'starting',\n",
              "    }\n",
              "  };\n",
              "\n",
              "  cancel.remove();\n",
              "\n",
              "  // Disable the input element since further picks are not allowed.\n",
              "  inputElement.disabled = true;\n",
              "\n",
              "  if (!files) {\n",
              "    return {\n",
              "      response: {\n",
              "        action: 'complete',\n",
              "      }\n",
              "    };\n",
              "  }\n",
              "\n",
              "  for (const file of files) {\n",
              "    const li = document.createElement('li');\n",
              "    li.append(span(file.name, {fontWeight: 'bold'}));\n",
              "    li.append(span(\n",
              "        `(${file.type || 'n/a'}) - ${file.size} bytes, ` +\n",
              "        `last modified: ${\n",
              "            file.lastModifiedDate ? file.lastModifiedDate.toLocaleDateString() :\n",
              "                                    'n/a'} - `));\n",
              "    const percent = span('0% done');\n",
              "    li.appendChild(percent);\n",
              "\n",
              "    outputElement.appendChild(li);\n",
              "\n",
              "    const fileDataPromise = new Promise((resolve) => {\n",
              "      const reader = new FileReader();\n",
              "      reader.onload = (e) => {\n",
              "        resolve(e.target.result);\n",
              "      };\n",
              "      reader.readAsArrayBuffer(file);\n",
              "    });\n",
              "    // Wait for the data to be ready.\n",
              "    let fileData = yield {\n",
              "      promise: fileDataPromise,\n",
              "      response: {\n",
              "        action: 'continue',\n",
              "      }\n",
              "    };\n",
              "\n",
              "    // Use a chunked sending to avoid message size limits. See b/62115660.\n",
              "    let position = 0;\n",
              "    do {\n",
              "      const length = Math.min(fileData.byteLength - position, MAX_PAYLOAD_SIZE);\n",
              "      const chunk = new Uint8Array(fileData, position, length);\n",
              "      position += length;\n",
              "\n",
              "      const base64 = btoa(String.fromCharCode.apply(null, chunk));\n",
              "      yield {\n",
              "        response: {\n",
              "          action: 'append',\n",
              "          file: file.name,\n",
              "          data: base64,\n",
              "        },\n",
              "      };\n",
              "\n",
              "      let percentDone = fileData.byteLength === 0 ?\n",
              "          100 :\n",
              "          Math.round((position / fileData.byteLength) * 100);\n",
              "      percent.textContent = `${percentDone}% done`;\n",
              "\n",
              "    } while (position < fileData.byteLength);\n",
              "  }\n",
              "\n",
              "  // All done.\n",
              "  yield {\n",
              "    response: {\n",
              "      action: 'complete',\n",
              "    }\n",
              "  };\n",
              "}\n",
              "\n",
              "scope.google = scope.google || {};\n",
              "scope.google.colab = scope.google.colab || {};\n",
              "scope.google.colab._files = {\n",
              "  _uploadFiles,\n",
              "  _uploadFilesContinue,\n",
              "};\n",
              "})(self);\n",
              "</script> "
            ]
          },
          "metadata": {}
        },
        {
          "output_type": "stream",
          "name": "stdout",
          "text": [
            "Saving churn_services.csv to churn_services.csv\n",
            "Saving churn_customers.csv to churn_customers.csv\n",
            "Saving churn_contracts.csv to churn_contracts.csv\n"
          ]
        }
      ],
      "source": [
        "from google.colab import files\n",
        "uploaded = files.upload()\n",
        "\n",
        "# Carregar os arquivos CSV\n",
        "services_df = pd.read_csv('churn_services.csv')\n",
        "customers_df = pd.read_csv('churn_customers.csv')\n",
        "contracts_df = pd.read_csv('churn_contracts.csv')"
      ]
    },
    {
      "cell_type": "markdown",
      "source": [
        "\n",
        "\n",
        "###Função: pd.read_csv()\n",
        "\n",
        "Os dados de três arquivos CSV são carregados em DataFrames:\n",
        "\n",
        "***churn_services.csv:*** Contém informações sobre os serviços utilizados pelos clientes.\n",
        "\n",
        "***churn_customers.csv:*** Inclui detalhes demográficos e dados do cliente.\n",
        "\n",
        "***churn_contracts.csv:*** Contém informações contratuais, como custos e status de churn.\n",
        "\n",
        "\n",
        "\n",
        "\n",
        "\n",
        "```\n",
        "services_df = pd.read_csv('churn_services.csv')\n",
        "customers_df = pd.read_csv('churn_customers.csv')\n",
        "contracts_df = pd.read_csv('churn_contracts.csv')\n",
        "```\n",
        "\n",
        "\n",
        "\n",
        "\n",
        "\n",
        "\n",
        "\n",
        "\n",
        "\\\n",
        "\n",
        "---"
      ],
      "metadata": {
        "id": "7unmjiTKyjCj"
      }
    },
    {
      "cell_type": "markdown",
      "source": [
        "##**3. Identificação de Valores Ausentes**"
      ],
      "metadata": {
        "id": "v0fQczXGzuCc"
      }
    },
    {
      "cell_type": "code",
      "execution_count": null,
      "metadata": {
        "colab": {
          "base_uri": "https://localhost:8080/"
        },
        "id": "wLTF-5525r8v",
        "outputId": "d1df1d76-3931-43a2-9417-670557936dd8"
      },
      "outputs": [
        {
          "output_type": "stream",
          "name": "stdout",
          "text": [
            "customerID          0\n",
            "PhoneService        0\n",
            "MultipleLines       0\n",
            "InternetService     0\n",
            "OnlineSecurity      0\n",
            "OnlineBackup        0\n",
            "DeviceProtection    0\n",
            "TechSupport         0\n",
            "StreamingTV         0\n",
            "StreamingMovies     0\n",
            "dtype: int64\n",
            "customerID       0\n",
            "gender           0\n",
            "SeniorCitizen    0\n",
            "Partner          0\n",
            "Dependents       0\n",
            "dtype: int64\n",
            "customerID          0\n",
            "tenure              0\n",
            "Contract            0\n",
            "PaperlessBilling    0\n",
            "PaymentMethod       0\n",
            "MonthlyCharges      0\n",
            "TotalCharges        0\n",
            "Churn               0\n",
            "dtype: int64\n"
          ]
        },
        {
          "output_type": "stream",
          "name": "stderr",
          "text": [
            "<ipython-input-3-b4256327a3d8>:8: FutureWarning: A value is trying to be set on a copy of a DataFrame or Series through chained assignment using an inplace method.\n",
            "The behavior will change in pandas 3.0. This inplace method will never work because the intermediate object on which we are setting values always behaves as a copy.\n",
            "\n",
            "For example, when doing 'df[col].method(value, inplace=True)', try using 'df.method({col: value}, inplace=True)' or df[col] = df[col].method(value) instead, to perform the operation inplace on the original object.\n",
            "\n",
            "\n",
            "  contracts_df['TotalCharges'].fillna(contracts_df['TotalCharges'].median(), inplace=True)\n"
          ]
        }
      ],
      "source": [
        "# Identificar valores ausentes\n",
        "print(services_df.isnull().sum())\n",
        "print(customers_df.isnull().sum())\n",
        "print(contracts_df.isnull().sum())\n",
        "\n",
        "# Exemplo de tratamento\n",
        "contracts_df['TotalCharges'] = pd.to_numeric(contracts_df['TotalCharges'], errors='coerce')\n",
        "contracts_df['TotalCharges'].fillna(contracts_df['TotalCharges'].median(), inplace=True)"
      ]
    },
    {
      "cell_type": "markdown",
      "source": [
        "\n",
        "\n",
        "Método: .isnull().sum()\n",
        "\n",
        "O código verifica quais colunas têm valores ausentes e a quantidade:\n",
        "\n",
        "\n",
        "\n",
        "```\n",
        "print(services_df.isnull().sum())\n",
        "print(customers_df.isnull().sum())\n",
        "print(contracts_df.isnull().sum())\n",
        "```\n",
        "\n",
        "Por quê? Valores ausentes podem causar erros em análises ou introduzir viés nos resultados. Identificá-los é o primeiro passo para decidir o tratamento.\n",
        "\n",
        "\\\n",
        "\n",
        "---"
      ],
      "metadata": {
        "id": "KVAMhpZ5zR8a"
      }
    },
    {
      "cell_type": "markdown",
      "source": [
        "##**4. Tratamento de Dados Faltantes**\n",
        "\n",
        "Conversão para Numérico\n",
        "\n",
        "A coluna TotalCharges é convertida de string para valores numéricos. Qualquer valor inválido é transformado em NaN:\n",
        "\n",
        "```\n",
        "contracts_df['TotalCharges'] = pd.to_numeric(contracts_df['TotalCharges'], errors='coerce')\n",
        "```\n",
        "\n",
        "\n",
        "\n",
        "Preenchimento de Valores Faltantes\n",
        "\n",
        "Os valores ausentes em TotalCharges são substituídos pela mediana da coluna:\n",
        "\n",
        "```\n",
        "contracts_df['TotalCharges'].fillna(contracts_df['TotalCharges'].median(), inplace=True)\n",
        "```\n",
        "\n",
        "\n",
        "\n",
        "Por quê? A mediana é usada porque é menos sensível a valores extremos em comparação com a média, garantindo um preenchimento mais robusto.\n",
        "\n",
        "\\\n",
        "\n",
        "---"
      ],
      "metadata": {
        "id": "iMTS8bn70p_T"
      }
    },
    {
      "cell_type": "markdown",
      "source": [
        "##**5. Exploração de Dados**"
      ],
      "metadata": {
        "id": "4Yn0Jsrf1GlL"
      }
    },
    {
      "cell_type": "code",
      "execution_count": null,
      "metadata": {
        "colab": {
          "base_uri": "https://localhost:8080/"
        },
        "id": "dYJc4Nm851XG",
        "outputId": "9b560365-6eb0-4c0c-dd6f-ec740480cc74"
      },
      "outputs": [
        {
          "output_type": "stream",
          "name": "stdout",
          "text": [
            "<class 'pandas.core.frame.DataFrame'>\n",
            "RangeIndex: 7043 entries, 0 to 7042\n",
            "Data columns (total 10 columns):\n",
            " #   Column            Non-Null Count  Dtype \n",
            "---  ------            --------------  ----- \n",
            " 0   customerID        7043 non-null   object\n",
            " 1   PhoneService      7043 non-null   object\n",
            " 2   MultipleLines     7043 non-null   object\n",
            " 3   InternetService   7043 non-null   object\n",
            " 4   OnlineSecurity    7043 non-null   object\n",
            " 5   OnlineBackup      7043 non-null   object\n",
            " 6   DeviceProtection  7043 non-null   object\n",
            " 7   TechSupport       7043 non-null   object\n",
            " 8   StreamingTV       7043 non-null   object\n",
            " 9   StreamingMovies   7043 non-null   object\n",
            "dtypes: object(10)\n",
            "memory usage: 550.4+ KB\n",
            "None\n",
            "<class 'pandas.core.frame.DataFrame'>\n",
            "RangeIndex: 7043 entries, 0 to 7042\n",
            "Data columns (total 5 columns):\n",
            " #   Column         Non-Null Count  Dtype \n",
            "---  ------         --------------  ----- \n",
            " 0   customerID     7043 non-null   object\n",
            " 1   gender         7043 non-null   object\n",
            " 2   SeniorCitizen  7043 non-null   int64 \n",
            " 3   Partner        7043 non-null   object\n",
            " 4   Dependents     7043 non-null   object\n",
            "dtypes: int64(1), object(4)\n",
            "memory usage: 275.2+ KB\n",
            "None\n",
            "<class 'pandas.core.frame.DataFrame'>\n",
            "RangeIndex: 7043 entries, 0 to 7042\n",
            "Data columns (total 8 columns):\n",
            " #   Column            Non-Null Count  Dtype  \n",
            "---  ------            --------------  -----  \n",
            " 0   customerID        7043 non-null   object \n",
            " 1   tenure            7043 non-null   int64  \n",
            " 2   Contract          7043 non-null   object \n",
            " 3   PaperlessBilling  7043 non-null   object \n",
            " 4   PaymentMethod     7043 non-null   object \n",
            " 5   MonthlyCharges    7043 non-null   float64\n",
            " 6   TotalCharges      7043 non-null   float64\n",
            " 7   Churn             7043 non-null   object \n",
            "dtypes: float64(2), int64(1), object(5)\n",
            "memory usage: 440.3+ KB\n",
            "None\n"
          ]
        }
      ],
      "source": [
        "print(services_df.info())\n",
        "print(customers_df.info())\n",
        "print(contracts_df.info())\n"
      ]
    },
    {
      "cell_type": "markdown",
      "source": [
        "\n",
        "\n",
        "Estrutura dos Dados\n",
        "\n",
        "O método .info() fornece informações sobre colunas, tipos de dados e valores não nulos:\n",
        "\n",
        "```\n",
        "print(services_df.info())\n",
        "print(customers_df.info())\n",
        "print(contracts_df.info())\n",
        "```\n",
        "\n",
        "\n",
        "\n"
      ],
      "metadata": {
        "id": "7aj9rcLm0cF0"
      }
    },
    {
      "cell_type": "code",
      "execution_count": null,
      "metadata": {
        "colab": {
          "base_uri": "https://localhost:8080/"
        },
        "id": "M1lhen3c6b34",
        "outputId": "f2459422-3804-4f86-ecee-d6a5fc69ff9b"
      },
      "outputs": [
        {
          "output_type": "stream",
          "name": "stdout",
          "text": [
            "       SeniorCitizen\n",
            "count    7043.000000\n",
            "mean        0.162147\n",
            "std         0.368612\n",
            "min         0.000000\n",
            "25%         0.000000\n",
            "50%         0.000000\n",
            "75%         0.000000\n",
            "max         1.000000\n",
            "64.76169246059918\n"
          ]
        }
      ],
      "source": [
        "print(customers_df.describe())\n",
        "print(contracts_df['MonthlyCharges'].mean())\n"
      ]
    },
    {
      "cell_type": "markdown",
      "source": [
        "Estatísticas Resumidas\n",
        "\n",
        "O método .describe() apresenta estatísticas como média, desvio padrão, mínimo e máximo para colunas numéricas:\n",
        "\n",
        "```\n",
        "print(customers_df.describe())\n",
        "print(contracts_df['MonthlyCharges'].mean())\n",
        "```\n",
        "\n",
        "\n",
        "\n",
        "Por quê? Essas análises iniciais ajudam a entender a distribuição dos dados e a identificar possíveis anomalias.\n",
        "\n",
        "\\\n",
        "\n",
        "---"
      ],
      "metadata": {
        "id": "tyapyt3E1SID"
      }
    },
    {
      "cell_type": "markdown",
      "source": [
        "##**6. Análise Estatística**"
      ],
      "metadata": {
        "id": "aKuDU6qA2m77"
      }
    },
    {
      "cell_type": "code",
      "execution_count": null,
      "metadata": {
        "colab": {
          "base_uri": "https://localhost:8080/"
        },
        "id": "92nzuUwZ6ikH",
        "outputId": "f5d6a412-d427-4d52-9bc6-90ec4269e8fc"
      },
      "outputs": [
        {
          "output_type": "stream",
          "name": "stdout",
          "text": [
            "T-statistic: 16.536738015936308, P-value: 2.7066456068884154e-60\n"
          ]
        }
      ],
      "source": [
        "churn_yes = contracts_df[contracts_df['Churn'] == 'Yes']['MonthlyCharges']\n",
        "churn_no = contracts_df[contracts_df['Churn'] == 'No']['MonthlyCharges']\n",
        "\n",
        "# Teste T\n",
        "t_stat, p_value = stats.ttest_ind(churn_yes, churn_no)\n",
        "print(f\"T-statistic: {t_stat}, P-value: {p_value}\")\n"
      ]
    },
    {
      "cell_type": "markdown",
      "source": [
        "\n",
        "\n",
        "Teste T\n",
        "\n",
        "O Teste T é usado para comparar as médias de duas populações. Neste caso:\n",
        "\n",
        "churn_yes: Clientes que cancelaram (Churn == 'Yes').\n",
        "\n",
        "churn_no: Clientes que não cancelaram (Churn == 'No').\n",
        "\n",
        "\n",
        "\n",
        "```\n",
        "churn_yes = contracts_df[contracts_df['Churn'] == 'Yes']['MonthlyCharges']\n",
        "churn_no = contracts_df[contracts_df['Churn'] == 'No']['MonthlyCharges']\n",
        "\n",
        "t_stat, p_value = stats.ttest_ind(churn_yes, churn_no)\n",
        "print(f\"T-statistic: {t_stat}, P-value: {p_value}\")\n",
        "```\n",
        "\n",
        "\n",
        "\n",
        "Resultado do p-value:\n",
        "\n",
        "Se p-value < 0.05, há diferença estatisticamente significativa entre as médias.\n",
        "\n",
        "Caso contrário, as diferenças podem ser atribuídas ao acaso.\n",
        "\n",
        "\\\n",
        "\n",
        "---"
      ],
      "metadata": {
        "id": "9IGx1y1E2j_c"
      }
    },
    {
      "cell_type": "markdown",
      "source": [
        "##**7. Filtragem de Dados**"
      ],
      "metadata": {
        "id": "9xWwu7sh3HRi"
      }
    },
    {
      "cell_type": "code",
      "execution_count": null,
      "metadata": {
        "colab": {
          "base_uri": "https://localhost:8080/"
        },
        "id": "eMfGoUb86n-3",
        "outputId": "6ad93099-74f7-4129-9cbd-0ac3e447c77b"
      },
      "outputs": [
        {
          "output_type": "stream",
          "name": "stdout",
          "text": [
            "      customerID  tenure        Contract PaperlessBilling  \\\n",
            "4     9237-HQITU       2  Month-to-month              Yes   \n",
            "5     9305-CDSKC       8  Month-to-month              Yes   \n",
            "8     7892-POOKP      28  Month-to-month              Yes   \n",
            "13    0280-XJGEX      49  Month-to-month              Yes   \n",
            "26    6467-CHFZW      47  Month-to-month              Yes   \n",
            "...          ...     ...             ...              ...   \n",
            "7010  0723-DRCLG       1  Month-to-month              Yes   \n",
            "7018  1122-JWTJW       1  Month-to-month              Yes   \n",
            "7032  6894-LFHLY       1  Month-to-month              Yes   \n",
            "7034  0639-TSIQW      67  Month-to-month              Yes   \n",
            "7041  8361-LTMKD       4  Month-to-month              Yes   \n",
            "\n",
            "                  PaymentMethod  MonthlyCharges  TotalCharges Churn  \n",
            "4              Electronic check           70.70        151.65   Yes  \n",
            "5              Electronic check           99.65        820.50   Yes  \n",
            "8              Electronic check          104.80       3046.05   Yes  \n",
            "13    Bank transfer (automatic)          103.70       5036.30   Yes  \n",
            "26             Electronic check           99.35       4749.15   Yes  \n",
            "...                         ...             ...           ...   ...  \n",
            "7010           Electronic check           74.45         74.45   Yes  \n",
            "7018               Mailed check           70.65         70.65   Yes  \n",
            "7032           Electronic check           75.75         75.75   Yes  \n",
            "7034    Credit card (automatic)          102.95       6886.25   Yes  \n",
            "7041               Mailed check           74.40        306.60   Yes  \n",
            "\n",
            "[1267 rows x 8 columns]\n"
          ]
        }
      ],
      "source": [
        "high_charges_churn = contracts_df[(contracts_df['MonthlyCharges'] > 70) & (contracts_df['Churn'] == 'Yes')]\n",
        "print(high_charges_churn)\n"
      ]
    },
    {
      "cell_type": "markdown",
      "source": [
        "\n",
        "\n",
        "Identificação de clientes com altos custos mensais (MonthlyCharges > 70) que cancelaram:\n",
        "\n",
        "```\n",
        "high_charges_churn = contracts_df[(contracts_df['MonthlyCharges'] > 70) & (contracts_df['Churn'] == 'Yes')]\n",
        "print(high_charges_churn)\n",
        "```\n",
        "\n",
        "\n",
        "\n",
        "Por quê? Esse filtro identifica padrões de clientes com custos mais altos que podem estar mais propensos a cancelar.\n",
        "\n",
        "\\\n",
        "\n",
        "---"
      ],
      "metadata": {
        "id": "8Jxyj1-73DtK"
      }
    },
    {
      "cell_type": "markdown",
      "source": [
        "##**8. Criação de Nova Coluna**"
      ],
      "metadata": {
        "id": "NqxsBgqY3VNj"
      }
    },
    {
      "cell_type": "code",
      "execution_count": null,
      "metadata": {
        "id": "YL7cttF_6xxI"
      },
      "outputs": [],
      "source": [
        "contracts_df['AvgCostPerMonth'] = contracts_df['TotalCharges'] / contracts_df['tenure']\n"
      ]
    },
    {
      "cell_type": "markdown",
      "source": [
        "\n",
        "\n",
        "A coluna AvgCostPerMonth calcula o custo médio mensal do contrato:\n",
        "\n",
        "```\n",
        "contracts_df['AvgCostPerMonth'] = contracts_df['TotalCharges'] / contracts_df['tenure']\n",
        "```\n",
        "\n",
        "\n",
        "\n",
        "Por quê? Esta métrica é útil para comparar custos médios ao longo do tempo e identificar discrepâncias entre clientes.\n",
        "\n",
        "\n",
        "\\\n",
        "\n",
        "---"
      ],
      "metadata": {
        "id": "e03wBckT3TMr"
      }
    },
    {
      "cell_type": "markdown",
      "source": [
        "##**9. Visualizações**\n",
        "\n",
        "###**9.1. Distribuição de Tipos de Contrato**"
      ],
      "metadata": {
        "id": "uSFYbjV63irb"
      }
    },
    {
      "cell_type": "code",
      "execution_count": null,
      "metadata": {
        "colab": {
          "base_uri": "https://localhost:8080/",
          "height": 564
        },
        "id": "9TOmjb_z62Ge",
        "outputId": "81389ae9-cfc1-405c-9e74-c3be2c82161c"
      },
      "outputs": [
        {
          "output_type": "display_data",
          "data": {
            "text/plain": [
              "<Figure size 800x600 with 1 Axes>"
            ],
            "image/png": "[encoded data removed]"
          },
          "metadata": {}
        }
      ],
      "source": [
        "plt.figure(figsize=(8, 6))\n",
        "sns.countplot(x='Contract', data=contracts_df)\n",
        "plt.title('Distribuição de Tipos de Contrato')\n",
        "plt.show()\n"
      ]
    },
    {
      "cell_type": "markdown",
      "source": [
        "\n",
        "\n",
        "Gráfico de barras mostrando o número de clientes por tipo de contrato:\n",
        "\n",
        "```\n",
        "plt.figure(figsize=(8, 6))\n",
        "sns.countplot(x='Contract', data=contracts_df)\n",
        "plt.title('Distribuição de Tipos de Contrato')\n",
        "plt.show()\n",
        "```\n",
        "\n",
        "\n",
        "\n",
        "Insight esperado: Tipos de contrato podem influenciar a retenção de clientes.\n",
        "\n",
        "\n",
        "\\\n"
      ],
      "metadata": {
        "id": "0Y1Ugyyi3eKj"
      }
    },
    {
      "cell_type": "markdown",
      "source": [
        "###**9.2. Relação entre tenure e Churn**"
      ],
      "metadata": {
        "id": "1CsoXwuz3rML"
      }
    },
    {
      "cell_type": "code",
      "execution_count": null,
      "metadata": {
        "colab": {
          "base_uri": "https://localhost:8080/",
          "height": 564
        },
        "id": "P6wEF9IZ696Q",
        "outputId": "e2906279-3a8c-4eca-f290-6e3ecbaea896"
      },
      "outputs": [
        {
          "output_type": "display_data",
          "data": {
            "text/plain": [
              "<Figure size 1000x600 with 1 Axes>"
            ],
            "image/png": "[encoded data removed]"
          },
          "metadata": {}
        }
      ],
      "source": [
        "plt.figure(figsize=(10, 6))\n",
        "sns.boxplot(x='Churn', y='tenure', data=contracts_df)\n",
        "plt.title('Tempo de Contrato vs. Churn')\n",
        "plt.show()\n"
      ]
    },
    {
      "cell_type": "markdown",
      "source": [
        "\n",
        "\n",
        "Gráfico de caixa comparando o tempo de contrato (tenure) entre clientes que cancelaram e não cancelaram:\n",
        "\n",
        "```\n",
        "plt.figure(figsize=(10, 6))\n",
        "sns.boxplot(x='Churn', y='tenure', data=contracts_df)\n",
        "plt.title('Tempo de Contrato vs. Churn')\n",
        "plt.show()\n",
        "```\n",
        "\n",
        "\n",
        "\n",
        "Insight esperado: Clientes com contratos mais longos podem ter menor probabilidade de churn.\n",
        "\n",
        "\\\n"
      ],
      "metadata": {
        "id": "E46LCG6q3sGT"
      }
    },
    {
      "cell_type": "markdown",
      "source": [
        "###**9.3. Matriz de Correlação**"
      ],
      "metadata": {
        "id": "RyVgNuGh37B7"
      }
    },
    {
      "cell_type": "code",
      "execution_count": null,
      "metadata": {
        "id": "IgyeFYcM7bog"
      },
      "outputs": [],
      "source": [
        "numeric_cols = contracts_df.select_dtypes(include=['float64', 'int64'])\n",
        "corr_matrix = numeric_cols.corr()\n"
      ]
    },
    {
      "cell_type": "code",
      "execution_count": null,
      "metadata": {
        "colab": {
          "base_uri": "https://localhost:8080/",
          "height": 699
        },
        "id": "UClcK8977A2n",
        "outputId": "720dbdb8-0df3-4c9b-bae5-e7ecd2ff51df"
      },
      "outputs": [
        {
          "output_type": "display_data",
          "data": {
            "text/plain": [
              "<Figure size 1200x800 with 2 Axes>"
            ],
            "image/png": "[encoded data removed]"
          },
          "metadata": {}
        }
      ],
      "source": [
        "plt.figure(figsize=(12, 8))\n",
        "sns.heatmap(corr_matrix, annot=True, cmap='coolwarm', fmt='.2f')\n",
        "plt.title('Matriz de Correlação')\n",
        "plt.show()\n"
      ]
    },
    {
      "cell_type": "markdown",
      "source": [
        "\n",
        "Matriz de correlação para variáveis numéricas:\n",
        "\n",
        "```\n",
        "numeric_cols = contracts_df.select_dtypes(include=['float64', 'int64'])\n",
        "corr_matrix = numeric_cols.corr()\n",
        "```\n",
        "\n",
        "\n",
        "```\n",
        "plt.figure(figsize=(12, 8))\n",
        "sns.heatmap(corr_matrix, annot=True, cmap='coolwarm', fmt='.2f')\n",
        "plt.title('Matriz de Correlação')\n",
        "plt.show()\n",
        "```\n",
        "\n",
        "\n",
        "\n",
        "Por quê? A correlação mede a força e direção da relação entre variáveis, ajudando a identificar fatores associados ao churn.\n",
        "\n",
        "\\\n",
        "\n",
        "---\n",
        "##**10. Conclusões**\n",
        "\n",
        "**Resumo dos Resultados**\n",
        "\n",
        "**Valores Ausentes:** Tratados com sucesso.\n",
        "\n",
        "**Teste T:** Avaliou a relação entre custos mensais e churn.\n",
        "\n",
        "**Filtros:** Identificaram grupos de clientes mais propensos a churn.\n",
        "\n",
        "**Visualizações:** Destacaram padrões importantes, como a influência de tipos de contrato e tempo de contrato.\n",
        "\n",
        "\n"
      ],
      "metadata": {
        "id": "gRDmsHrZGBtw"
      }
    },
    {
      "cell_type": "markdown",
      "source": [
        "#Melhoria e nova análise\n",
        "* Melhoria para a Prova\n"
      ],
      "metadata": {
        "id": "FQDC40SAx5ct"
      }
    },
    {
      "cell_type": "markdown",
      "source": [
        "###Análise de Métodos de Pagamento\n",
        "\n",
        "* Avaliar se métodos de pagamento como Electronic check têm correlação com maior taxa de churn."
      ],
      "metadata": {
        "id": "jhrzcENzePvY"
      }
    },
    {
      "cell_type": "markdown",
      "source": [
        "###Agrupamento por Método de Pagamento\n",
        "Objetivo: Analisar a relação entre os métodos de pagamento e a taxa de churn.\n",
        "\n",
        "Etapas:\n",
        "Agrupamento: Agrupa os dados pelo PaymentMethod (método de pagamento) e Churn (status de cancelamento).\n",
        "Porcentagem de Churn: Calcula a proporção de churn para cada método de pagamento.\n",
        "Visualização Inicial: Exibe uma tabela com as porcentagens."
      ],
      "metadata": {
        "id": "R7_vuMfcWvrq"
      }
    },
    {
      "cell_type": "code",
      "source": [
        "# Agrupar os dados pelo método de pagamento e churn\n",
        "payment_churn = contracts_df.groupby(['PaymentMethod', 'Churn']).size().unstack()\n",
        "\n",
        "# Calcular a porcentagem de churn por método de pagamento\n",
        "payment_churn_percentage = (payment_churn.div(payment_churn.sum(axis=1), axis=0) * 100).round(2)\n",
        "\n",
        "# Exibir os resultados\n",
        "print(\"Porcentagem de churn por método de pagamento:\")\n",
        "print(payment_churn_percentage)\n"
      ],
      "metadata": {
        "colab": {
          "base_uri": "https://localhost:8080/"
        },
        "id": "kezeOodWVYro",
        "outputId": "07c3cd41-a84a-49fd-9fcc-59c5cb497137"
      },
      "execution_count": null,
      "outputs": [
        {
          "output_type": "stream",
          "name": "stdout",
          "text": [
            "Porcentagem de churn por método de pagamento:\n",
            "Churn                         No    Yes\n",
            "PaymentMethod                          \n",
            "Bank transfer (automatic)  83.29  16.71\n",
            "Credit card (automatic)    84.76  15.24\n",
            "Electronic check           54.71  45.29\n",
            "Mailed check               80.89  19.11\n"
          ]
        }
      ]
    },
    {
      "cell_type": "markdown",
      "source": [
        "###Visualização\n",
        "Objetivo: Criar um gráfico de barras empilhadas para visualizar o impacto dos métodos de pagamento no churn.\n",
        "\n",
        "Configuração do Gráfico:\n",
        "Tipo de Gráfico: Barras empilhadas (stacked=True).\n",
        "Legendas e Títulos: Facilita a leitura e interpretação do gráfico.\n",
        "Ajustes Estéticos: Rotação dos rótulos no eixo X, layout ajustado."
      ],
      "metadata": {
        "id": "b1vXm4jLXFtV"
      }
    },
    {
      "cell_type": "code",
      "source": [
        "# Criar o gráfico de barras empilhadas\n",
        "payment_churn_percentage.plot(kind='bar', stacked=True, figsize=(10, 6), alpha=0.8)\n",
        "plt.title('Impacto dos Métodos de Pagamento no Churn')\n",
        "plt.ylabel('Porcentagem (%)')\n",
        "plt.xlabel('Método de Pagamento')\n",
        "plt.legend(title='Churn', loc='upper right')\n",
        "plt.xticks(rotation=45)\n",
        "plt.tight_layout()\n",
        "\n",
        "# Exibir o gráfico\n",
        "plt.show()\n"
      ],
      "metadata": {
        "colab": {
          "base_uri": "https://localhost:8080/",
          "height": 607
        },
        "id": "raYCNosWWRlm",
        "outputId": "a80baba4-b5e0-4490-bbca-320691c32019"
      },
      "execution_count": null,
      "outputs": [
        {
          "output_type": "display_data",
          "data": {
            "text/plain": [
              "<Figure size 1000x600 with 1 Axes>"
            ],
            "image/png": "[encoded data removed]"
          },
          "metadata": {}
        }
      ]
    },
    {
      "cell_type": "markdown",
      "source": [
        "Nome do Programa: Analise de Dados com Phython-MB2.\n",
        "\n",
        "Desemvolvedor: José tayllan pinto Almeida.\n",
        "\n",
        "Data de Criação: 04/12/2024 a 10/12/2024.\n",
        "\n",
        "Disciplina: introdução a Python"
      ],
      "metadata": {
        "id": "B69RNHvhX0hr"
      }
    }
  ],
  "metadata": {
    "colab": {
      "provenance": [],
      "include_colab_link": true
    },
    "kernelspec": {
      "display_name": "Python 3",
      "name": "python3"
    },
    "language_info": {
      "name": "python"
    }
  },
  "nbformat": 4,
  "nbformat_minor": 0
}